{
 "cells": [
  {
   "cell_type": "code",
   "execution_count": 1,
   "id": "1f8bdf06-fcf5-48ab-a84c-8b7351c21977",
   "metadata": {},
   "outputs": [],
   "source": [
    "from langchain_openai import ChatOpenAI, OpenAIEmbeddings\n",
    "from langchain_core.prompts import ChatPromptTemplate, MessagesPlaceholder\n",
    "from langchain_core.output_parsers import StrOutputParser\n",
    "from langchain_core.messages import HumanMessage, AIMessage\n",
    "from langchain_community.document_loaders import WebBaseLoader\n",
    "from langchain_community.vectorstores import FAISS\n",
    "from langchain.text_splitter import RecursiveCharacterTextSplitter\n",
    "from langchain.chains.combine_documents import create_stuff_documents_chain\n",
    "from langchain.chains import create_retrieval_chain, create_history_aware_retriever\n",
    "from langchain.tools.retriever import create_retriever_tool\n",
    "from langchain_community.tools.tavily_search import TavilySearchResults\n",
    "from langchain import hub\n",
    "from langchain.agents import create_openai_functions_agent, AgentExecutor\n",
    "import os\n",
    "import getpass"
   ]
  },
  {
   "cell_type": "code",
   "execution_count": 2,
   "id": "f6049fbf-a5bb-43b5-8258-60775d3e2b96",
   "metadata": {},
   "outputs": [],
   "source": [
    "llm = ChatOpenAI()\n",
    "embeddings = OpenAIEmbeddings()"
   ]
  },
  {
   "cell_type": "code",
   "execution_count": 3,
   "id": "b7ee628e-c659-4a5e-a5ab-86f74715bf4c",
   "metadata": {},
   "outputs": [],
   "source": [
    "prompt = ChatPromptTemplate.from_messages([\n",
    "    (\"system\", \"You are world class technical documentation writer.\"),\n",
    "    (\"user\", \"{input}\")\n",
    "])\n",
    "\n",
    "output_parser =  StrOutputParser()\n",
    "\n",
    "loader = WebBaseLoader(\"https://docs.smith.langchain.com/overview\")\n",
    "\n",
    "docs = loader.load()"
   ]
  },
  {
   "cell_type": "code",
   "execution_count": 4,
   "id": "b3d74253-e395-424f-a64a-3ac9cbd0cd83",
   "metadata": {},
   "outputs": [],
   "source": [
    "chain = prompt | llm | output_parser"
   ]
  },
  {
   "cell_type": "code",
   "execution_count": 5,
   "id": "3257d842-4726-4dbf-a345-89010e0fb061",
   "metadata": {},
   "outputs": [],
   "source": [
    "text_splitter = RecursiveCharacterTextSplitter()\n",
    "documents = text_splitter.split_documents(docs)\n",
    "vector = FAISS.from_documents(documents, embeddings)\n",
    "\n",
    "prompt = ChatPromptTemplate.from_template(\"\"\"Answer the following question based only on the provided context:\n",
    "\n",
    "<context>\n",
    "{context}\n",
    "</context>\n",
    "\n",
    "Question: {input}\"\"\")\n",
    "\n",
    "document_chain = create_stuff_documents_chain(llm, prompt)"
   ]
  },
  {
   "cell_type": "code",
   "execution_count": 6,
   "id": "9aa6c306-93e9-4c24-b0e4-e7830ab64154",
   "metadata": {},
   "outputs": [],
   "source": [
    "retriever = vector.as_retriever()\n",
    "retrieval_chain = create_retrieval_chain(retriever, document_chain)"
   ]
  },
  {
   "cell_type": "code",
   "execution_count": 7,
   "id": "ee4781de-52c5-4cfe-919c-7e2b0e3a0a09",
   "metadata": {},
   "outputs": [
    {
     "name": "stdout",
     "output_type": "stream",
     "text": [
      "LangSmith can help with testing by providing features such as dataset uploading, running chains over data points, visualizing outputs, and evaluating results. It simplifies the process of testing changes to prompts or chains by allowing users to run the chain over data points and log the results to a new project associated with the dataset. Users can review the results and assign feedback to runs, marking them as correct or incorrect. LangSmith also offers evaluators that can be specified during a test run to assess the results. Additionally, LangSmith provides annotation queues for manual review and annotation of runs, allowing users to assess subjective qualities and validate auto-evaluated runs.\n"
     ]
    }
   ],
   "source": [
    "response = retrieval_chain.invoke({\"input\": \"how can langsmith help with testing?\"})\n",
    "print(response[\"answer\"])"
   ]
  },
  {
   "cell_type": "code",
   "execution_count": 8,
   "id": "677ddce5-0933-40fe-b518-72af7826a371",
   "metadata": {},
   "outputs": [],
   "source": [
    "prompt = ChatPromptTemplate.from_messages([\n",
    "    MessagesPlaceholder(variable_name=\"chat_history\"),\n",
    "    (\"user\", \"{input}\"),\n",
    "    (\"user\", \"Given the above conversation, generate a search query to look up in order to get information relevant to the conversation\")\n",
    "])\n",
    "retriever_chain = create_history_aware_retriever(llm, retriever, prompt)"
   ]
  },
  {
   "cell_type": "code",
   "execution_count": 9,
   "id": "7a1a91c7-aa5d-42a4-8af2-e19d3e1708df",
   "metadata": {},
   "outputs": [],
   "source": [
    "prompt = ChatPromptTemplate.from_messages([\n",
    "    (\"system\", \"Answer the user's questions based on the below context:\\n\\n{context}\"),\n",
    "    MessagesPlaceholder(variable_name=\"chat_history\"),\n",
    "    (\"user\", \"{input}\"),\n",
    "])\n",
    "document_chain = create_stuff_documents_chain(llm, prompt)\n",
    "\n",
    "retrieval_chain = create_retrieval_chain(retriever_chain, document_chain)"
   ]
  },
  {
   "cell_type": "code",
   "execution_count": 16,
   "id": "80b443d3-b1e0-4e7c-b29a-24f7e0030366",
   "metadata": {
    "scrolled": true
   },
   "outputs": [],
   "source": [
    "retriever_tool = create_retriever_tool(\n",
    "    retriever,\n",
    "    \"langsmith_search\",\n",
    "    \"Search for information about LangSmith. For any questions about LangSmith, you must use this tool!\",\n",
    ")\n",
    "os.environ['TAVILY_API_KEY']=\"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\"\n",
    "search = TavilySearchResults()\n",
    "tools = [search]\n",
    "\n",
    "prompt = hub.pull(\"hwchase17/openai-functions-agent\")\n",
    "llm = ChatOpenAI(model=\"gpt-4-1106-preview\", temperature=0)\n",
    "agent = create_openai_functions_agent(llm, tools, prompt)\n",
    "agent_executor = AgentExecutor(agent=agent, tools=tools, verbose=True)"
   ]
  },
  {
   "cell_type": "code",
   "execution_count": 17,
   "id": "cfb4a9a2-b990-4c19-abaf-20d5985386d6",
   "metadata": {},
   "outputs": [
    {
     "name": "stdout",
     "output_type": "stream",
     "text": [
      "\n",
      "\n",
      "\u001b[1m> Entering new AgentExecutor chain...\u001b[0m\n",
      "\u001b[32;1m\u001b[1;3mAs of my last update in April 2023, I don't have real-time access to current events or live databases to provide the latest state of the Republican Primaries or a leaderboard. The status of political races, including primaries, can change frequently with new developments, debates, polls, and voting results.\n",
      "\n",
      "To get the most current information on the Republican Primaries, including a leaderboard of candidates, you should consult the latest news from reliable sources, political analysis websites, or official party information. Major news networks, political tracking sites like RealClearPolitics, and the official Republican National Committee website would have up-to-date information on the primaries.\n",
      "\n",
      "If you're looking for historical data or information on a specific aspect of the Republican Primaries, I can certainly help with that. Otherwise, for the latest standings, please check the most recent sources.\u001b[0m\n",
      "\n",
      "\u001b[1m> Finished chain.\u001b[0m\n"
     ]
    },
    {
     "data": {
      "text/plain": [
       "{'input': 'Tell me the state of the Republican Primaries and also output a leaderboard.',\n",
       " 'output': \"As of my last update in April 2023, I don't have real-time access to current events or live databases to provide the latest state of the Republican Primaries or a leaderboard. The status of political races, including primaries, can change frequently with new developments, debates, polls, and voting results.\\n\\nTo get the most current information on the Republican Primaries, including a leaderboard of candidates, you should consult the latest news from reliable sources, political analysis websites, or official party information. Major news networks, political tracking sites like RealClearPolitics, and the official Republican National Committee website would have up-to-date information on the primaries.\\n\\nIf you're looking for historical data or information on a specific aspect of the Republican Primaries, I can certainly help with that. Otherwise, for the latest standings, please check the most recent sources.\"}"
      ]
     },
     "execution_count": 17,
     "metadata": {},
     "output_type": "execute_result"
    }
   ],
   "source": [
    "agent_executor.invoke({\"input\": \"Tell me the state of the Republican Primaries and also output a leaderboard.\"})"
   ]
  },
  {
   "cell_type": "code",
   "execution_count": null,
   "id": "efd81f37-3926-47d0-8a75-f69dd7a5064c",
   "metadata": {},
   "outputs": [],
   "source": []
  }
 ],
 "metadata": {
  "kernelspec": {
   "display_name": "Python 3 (ipykernel)",
   "language": "python",
   "name": "python3"
  },
  "language_info": {
   "codemirror_mode": {
    "name": "ipython",
    "version": 3
   },
   "file_extension": ".py",
   "mimetype": "text/x-python",
   "name": "python",
   "nbconvert_exporter": "python",
   "pygments_lexer": "ipython3",
   "version": "3.11.7"
  }
 },
 "nbformat": 4,
 "nbformat_minor": 5
}
