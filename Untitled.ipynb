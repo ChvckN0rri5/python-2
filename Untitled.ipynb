{
 "cells": [
  {
   "cell_type": "code",
   "execution_count": 70,
   "id": "1f8bdf06-fcf5-48ab-a84c-8b7351c21977",
   "metadata": {},
   "outputs": [],
   "source": [
    "from langchain_openai import ChatOpenAI, OpenAIEmbeddings\n",
    "from langchain_core.prompts import ChatPromptTemplate, MessagesPlaceholder\n",
    "from langchain_core.output_parsers import StrOutputParser\n",
    "from langchain_core.messages import HumanMessage, AIMessage\n",
    "from langchain_community.document_loaders import WebBaseLoader\n",
    "from langchain_community.vectorstores import FAISS\n",
    "from langchain.text_splitter import RecursiveCharacterTextSplitter\n",
    "from langchain.chains.combine_documents import create_stuff_documents_chain\n",
    "from langchain.chains import create_retrieval_chain, create_history_aware_retriever\n",
    "from langchain.tools.retriever import create_retriever_tool\n",
    "from langchain_community.tools.tavily_search import TavilySearchResults\n",
    "from langchain import hub\n",
    "from langchain.agents import create_openai_functions_agent, AgentExecutor\n",
    "import os\n",
    "import getpass\n",
    "from datetime import datetime\n",
    "from pprint import pprint, pformat\n",
    "from langchain.globals import set_debug, set_verbose"
   ]
  },
  {
   "cell_type": "code",
   "execution_count": 71,
   "id": "7a5967dd-3852-4673-9606-664be14777f9",
   "metadata": {},
   "outputs": [],
   "source": [
    "#Settings\n",
    "set_debug = False\n",
    "set_verbose = True"
   ]
  },
  {
   "cell_type": "code",
   "execution_count": 62,
   "id": "f6049fbf-a5bb-43b5-8258-60775d3e2b96",
   "metadata": {},
   "outputs": [],
   "source": [
    "llm = ChatOpenAI()\n",
    "embeddings = OpenAIEmbeddings()"
   ]
  },
  {
   "cell_type": "code",
   "execution_count": 63,
   "id": "47a8acc7-f7b6-4a5a-aeeb-53e548d50b75",
   "metadata": {},
   "outputs": [],
   "source": [
    "def get_date():\n",
    "    # Get current date and time\n",
    "    current_datetime = datetime.now()\n",
    "    \n",
    "    # Format the date and time\n",
    "    formatted_timestamp = current_datetime.strftime('%d %b %Y - %H:%M:%S')\n",
    "    \n",
    "    return formatted_timestamp"
   ]
  },
  {
   "cell_type": "code",
   "execution_count": 67,
   "id": "b7ee628e-c659-4a5e-a5ab-86f74715bf4c",
   "metadata": {},
   "outputs": [],
   "source": [
    "def load_url(url): \n",
    "    output_parser =  StrOutputParser()\n",
    "    loader = WebBaseLoader(url)\n",
    "    \n",
    "    docs = loader.load()\n",
    "    text_splitter = RecursiveCharacterTextSplitter()\n",
    "    documents = text_splitter.split_documents(docs)\n",
    "    vector = FAISS.from_documents(documents, embeddings)\n",
    "    retriever = vector.as_retriever()\n",
    "    return retriever\n",
    "\n",
    "def ask_url(url):\n",
    "    prompt = ChatPromptTemplate.from_template(\"\"\"Answer the following question based only on the provided context:\n",
    "    \n",
    "    <context>\n",
    "    {context}\n",
    "    </context>\n",
    "    \n",
    "    Question: {input}\"\"\")\n",
    "    \n",
    "    document_chain = create_stuff_documents_chain(llm, prompt)\n",
    "\n",
    "    retriever = load_url(url)\n",
    "    retrieval_chain = create_retrieval_chain(retriever, document_chain)\n",
    "\n",
    "    return retrieval_chain"
   ]
  },
  {
   "cell_type": "code",
   "execution_count": 73,
   "id": "ee4781de-52c5-4cfe-919c-7e2b0e3a0a09",
   "metadata": {},
   "outputs": [
    {
     "name": "stdout",
     "output_type": "stream",
     "text": [
      "Based on the provided context, it is not possible to draft a detailed tutorial on debugging or provide code examples. The context only mentions the availability of different tools and functionalities for debugging in the LangChain platform, such as tracing, setting debug flags, and using callbacks. However, there is no specific tutorial or code examples provided in the context.\n"
     ]
    }
   ],
   "source": [
    "search_url = \"https://python.langchain.com/docs/guides/debugging\"\n",
    "response = ask_url(search_url).invoke({\"input\": \"Please draft a detailed tutorial on debugging and author some code examples at the end.\"})\n",
    "print(response[\"answer\"])"
   ]
  },
  {
   "cell_type": "code",
   "execution_count": null,
   "id": "677ddce5-0933-40fe-b518-72af7826a371",
   "metadata": {},
   "outputs": [],
   "source": [
    "prompt = ChatPromptTemplate.from_messages([\n",
    "    MessagesPlaceholder(variable_name=\"chat_history\"),\n",
    "    (\"user\", \"{input}\"),\n",
    "    (\"user\", \"Given the above conversation, generate a search query to look up in order to get information relevant to the conversation\")\n",
    "])\n",
    "retriever_chain = create_history_aware_retriever(llm, retriever, prompt)"
   ]
  },
  {
   "cell_type": "code",
   "execution_count": null,
   "id": "7a1a91c7-aa5d-42a4-8af2-e19d3e1708df",
   "metadata": {},
   "outputs": [],
   "source": [
    "prompt = ChatPromptTemplate.from_messages([\n",
    "    (\"system\", \"\\n\\nAnswer the user's questions based on the below context:\\n\\n{context}\"),\n",
    "    MessagesPlaceholder(variable_name=\"chat_history\"),\n",
    "    (\"user\", \"{get_date}: {input}\"),\n",
    "])\n",
    "document_chain = create_stuff_documents_chain(llm, prompt)\n",
    "\n",
    "retrieval_chain = create_retrieval_chain(retriever_chain, document_chain)"
   ]
  },
  {
   "cell_type": "code",
   "execution_count": null,
   "id": "80b443d3-b1e0-4e7c-b29a-24f7e0030366",
   "metadata": {
    "scrolled": true
   },
   "outputs": [],
   "source": [
    "retriever_tool = create_retriever_tool(\n",
    "    retriever,\n",
    "    \"langsmith_search\",\n",
    "    \"Search for information about LangSmith. For any questions about LangSmith, you must use this tool!\",\n",
    ")\n",
    "os.environ['TAVILY_API_KEY']=\"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\"\n",
    "search = TavilySearchResults()\n",
    "tools = [search]\n",
    "\n",
    "prompt = hub.pull(\"hwchase17/openai-functions-agent\")\n",
    "llm = ChatOpenAI(model=\"gpt-3.5-turbo-1106\", temperature=0)\n",
    "agent = create_openai_functions_agent(llm, tools, prompt)\n",
    "agent_executor = AgentExecutor(agent=agent, tools=tools, verbose=False, return_intermediate_steps=False,)"
   ]
  },
  {
   "cell_type": "code",
   "execution_count": null,
   "id": "076a78b0-996d-4b92-81ee-5b55fbcc5bd4",
   "metadata": {},
   "outputs": [],
   "source": [
    "question = \"When are the Nevada Primaries for each party?\"\n",
    "\n",
    "input_payload = \"The current date is \" + get_date() + \":\\n\\n\" + question\n",
    "\n",
    "agent_run = agent_executor.invoke({\"input\": input_payload})[\"output\"]\n",
    "\n",
    "agent_output = pformat(agent_run)\n",
    "print(agent_run)\n",
    "markdown_output = f\"```markdown\\n{agent_output}\\n```\""
   ]
  }
 ],
 "metadata": {
  "kernelspec": {
   "display_name": "Python 3 (ipykernel)",
   "language": "python",
   "name": "python3"
  },
  "language_info": {
   "codemirror_mode": {
    "name": "ipython",
    "version": 3
   },
   "file_extension": ".py",
   "mimetype": "text/x-python",
   "name": "python",
   "nbconvert_exporter": "python",
   "pygments_lexer": "ipython3",
   "version": "3.11.7"
  }
 },
 "nbformat": 4,
 "nbformat_minor": 5
}
